{
 "cells": [
  {
   "cell_type": "code",
   "execution_count": 4,
   "metadata": {},
   "outputs": [],
   "source": [
    "def egle(size):\n",
    "    if size > 63:\n",
    "        print(\"Please select a value smaller than 64\")\n",
    "        return\n",
    "        \n",
    "    tree = \"+\"\n",
    "    space = \" \"\n",
    "    mid = int(size/2)\n",
    "    for i in range(1 , size+1):\n",
    "        print(space*(size-i) + tree*(i*2))"
   ]
  },
  {
   "cell_type": "code",
   "execution_count": 5,
   "metadata": {},
   "outputs": [
    {
     "name": "stdout",
     "output_type": "stream",
     "text": [
      "5\n",
      "    ++\n",
      "   ++++\n",
      "  ++++++\n",
      " ++++++++\n",
      "++++++++++\n"
     ]
    }
   ],
   "source": [
    "egle(size = int(input()))"
   ]
  },
  {
   "cell_type": "code",
   "execution_count": 7,
   "metadata": {},
   "outputs": [],
   "source": [
    "def egle2(size):\n",
    "    if size > 63:\n",
    "        print(\"Please chose a value smaller than 64\")\n",
    "        return\n",
    "\n",
    "    tree = \"+\"\n",
    "    space = \" \"\n",
    "    mid = int(size/2)\n",
    "    for i in range(size):\n",
    "        print(space*(size-i)+tree)\n",
    "        tree = \"+\" + tree + \"+\""
   ]
  },
  {
   "cell_type": "code",
   "execution_count": 9,
   "metadata": {},
   "outputs": [
    {
     "name": "stdout",
     "output_type": "stream",
     "text": [
      "5\n",
      "     +\n",
      "    +++\n",
      "   +++++\n",
      "  +++++++\n",
      " +++++++++\n"
     ]
    }
   ],
   "source": [
    "egle2(size = int(input()))"
   ]
  }
 ],
 "metadata": {
  "kernelspec": {
   "display_name": "Python 3",
   "language": "python",
   "name": "python3"
  },
  "language_info": {
   "codemirror_mode": {
    "name": "ipython",
    "version": 3
   },
   "file_extension": ".py",
   "mimetype": "text/x-python",
   "name": "python",
   "nbconvert_exporter": "python",
   "pygments_lexer": "ipython3",
   "version": "3.6.5"
  }
 },
 "nbformat": 4,
 "nbformat_minor": 2
}
